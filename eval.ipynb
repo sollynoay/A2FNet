{
 "cells": [
  {
   "cell_type": "markdown",
   "id": "3e41343e",
   "metadata": {},
   "source": [
    "## inverse depth map\n",
    "The inverse depth map is saved in sfront.txt\n",
    "Note that during training, we use 1/sfront for better performance"
   ]
  },
  {
   "cell_type": "code",
   "execution_count": 7,
   "id": "4ca2a206",
   "metadata": {},
   "outputs": [],
   "source": [
    "import numpy as np\n",
    "import os\n",
    "import matplotlib.pyplot as plt"
   ]
  },
  {
   "cell_type": "code",
   "execution_count": 19,
   "id": "8ba8e5b0",
   "metadata": {},
   "outputs": [
    {
     "name": "stdout",
     "output_type": "stream",
     "text": [
      "D:/sim-data/water-tank/water-tank/brick6\\sfront1.txt\n",
      "(32, 128)\n"
     ]
    },
    {
     "data": {
      "text/plain": [
       "<matplotlib.image.AxesImage at 0x18d914658e0>"
      ]
     },
     "execution_count": 19,
     "metadata": {},
     "output_type": "execute_result"
    },
    {
     "data": {
      "image/png": "[encoded data removed]",
      "text/plain": [
       "<Figure size 640x480 with 1 Axes>"
      ]
     },
     "metadata": {},
     "output_type": "display_data"
    }
   ],
   "source": [
    "root = 'D:/sim-data/water-tank/water-tank/brick6'\n",
    "name = 'sfront1.txt'\n",
    "path = os.path.join(root,name)\n",
    "print(path)\n",
    "front = np.loadtxt(path)\n",
    "print(front.shape)\n",
    "plt.figure()\n",
    "plt.imshow(front)"
   ]
  },
  {
   "cell_type": "code",
   "execution_count": 20,
   "id": "c743f4de",
   "metadata": {},
   "outputs": [
    {
     "data": {
      "text/plain": [
       "<matplotlib.image.AxesImage at 0x18d974f2820>"
      ]
     },
     "execution_count": 20,
     "metadata": {},
     "output_type": "execute_result"
    },
    {
     "data": {
      "image/png": "[encoded data removed]",
      "text/plain": [
       "<Figure size 640x480 with 1 Axes>"
      ]
     },
     "metadata": {},
     "output_type": "display_data"
    }
   ],
   "source": [
    "plt.figure()\n",
    "plt.imshow(1/front,cmap=plt.cm.jet)"
   ]
  },
  {
   "cell_type": "code",
   "execution_count": null,
   "id": "d49e42b4",
   "metadata": {},
   "outputs": [],
   "source": [
    "import matplotlib.colors\n",
    "\n",
    "def make_image(data, outputname,min_bar,max_bar, size=(4, 1), dpi=2000):\n",
    "    fig = plt.figure()\n",
    "    fig.set_size_inches(size)\n",
    "    ax = plt.Axes(fig, [0., 0., 1., 1.])\n",
    "    ax.set_axis_off()\n",
    "    fig.add_axes(ax)\n",
    "    plt.set_cmap('jet')\n",
    "    norm = matplotlib.colors.Normalize(vmin=min_bar,vmax=max_bar)\n",
    "    ax.imshow(data, aspect='equal',norm=norm)\n",
    "    #ax.set_clim(0,512)\n",
    "    plt.savefig(outputname, dpi=dpi)\n",
    "    plt.close(fig)"
   ]
  },
  {
   "cell_type": "code",
   "execution_count": null,
   "id": "205c2868",
   "metadata": {},
   "outputs": [],
   "source": [
    "def make_image_gray(data, outputname, size=(1, 4), dpi=2000):\n",
    "    fig = plt.figure()\n",
    "    fig.set_size_inches(size)\n",
    "    ax = plt.Axes(fig, [0., 0., 1., 1.])\n",
    "    ax.set_axis_off()\n",
    "    fig.add_axes(ax)\n",
    "    plt.set_cmap('gray')\n",
    "    ax.imshow(data, aspect='equal')\n",
    "    plt.savefig(outputname, dpi=dpi)\n",
    "    plt.close(fig)"
   ]
  },
  {
   "cell_type": "markdown",
   "id": "3b722265",
   "metadata": {},
   "source": [
    "## transfer inverse depth map to point cloud"
   ]
  },
  {
   "cell_type": "code",
   "execution_count": 22,
   "id": "e12954b7",
   "metadata": {},
   "outputs": [],
   "source": [
    "import torch\n",
    "\n",
    "# transfer inverse depth map to point cloud\n",
    "def deth2pc(front,i):\n",
    "    # front: inverse of depth map in numpy array [32,128]\n",
    "    # i: number\n",
    "    y = 1/front\n",
    "\n",
    "    pc1 = torch.zeros([512, 32, 128], dtype=torch.float32)\n",
    "    \n",
    "    r1 = (y-2.0)/(0.003)   # 2.0: minimum range, 0.003: resolution\n",
    "    r1 = r1.astype(dtype = np.int64)\n",
    "    r1[r1<0]=0\n",
    "    r1[r1>511]=0\n",
    "    \n",
    "    r1 = r1.astype(dtype = np.int64)\n",
    "    \n",
    "    \n",
    "    for m in range(32):\n",
    "        for j in range(128):\n",
    "            if r1[m][j]>0:\n",
    "                k = r1[m][j]\n",
    "                pc1[k][m][j] = 1\n",
    "    data = torch.nonzero(pc1).numpy()\n",
    "    \n",
    "    \n",
    "    r1=2.0+data[:,0]*(0.003)\n",
    "    phi=np.deg2rad(-7+data[:,1]/32*14)  # 14: aperture angle in elevation\n",
    "    theta=np.deg2rad(-16+data[:,2]/128*32) # 32: aperture angle in azimurh\n",
    "    \n",
    "    length = len(data[:,0])\n",
    "    \n",
    "    euc_pc1 = np.zeros([length,3], dtype=np.float32)\n",
    "    \n",
    "    euc_pc1[:,0]=r1*np.cos(theta)*np.cos(phi)\n",
    "    euc_pc1[:,1]=r1*np.sin(theta)*np.cos(phi)\n",
    "    euc_pc1[:,2]=r1*np.sin(phi)\n",
    "    \n",
    "    path = './pc/test'+str(i)+'.txt'\n",
    "    np.savetxt(path,euc_pc1)"
   ]
  },
  {
   "cell_type": "markdown",
   "id": "9ed098e6",
   "metadata": {},
   "source": [
    "## Chamfer distance"
   ]
  },
  {
   "cell_type": "markdown",
   "id": "ed944b2e",
   "metadata": {},
   "source": [
    "### https://github.com/ThibaultGROUEIX/ChamferDistancePytorch"
   ]
  },
  {
   "cell_type": "code",
   "execution_count": null,
   "id": "81faceeb",
   "metadata": {},
   "outputs": [],
   "source": [
    "import torch, time\n",
    "import ChamferDistancePytorch.chamfer_python"
   ]
  },
  {
   "cell_type": "code",
   "execution_count": null,
   "id": "64b78d71",
   "metadata": {},
   "outputs": [],
   "source": [
    "list = []\n",
    "for i in range(299):\n",
    "    P = np.loadtxt(\"./result_real/mvs/gt\"+str(i)+\".txt\")\n",
    "    Q = np.loadtxt(\"./result_real/mvs/test\"+str(i)+\".txt\")\n",
    "    \n",
    "    P = torch.tensor(P)\n",
    "    Q = torch.tensor(Q)\n",
    "    \n",
    "    mydist1, mydist2, myidx1, myidx2 = ChamferDistancePytorch.chamfer_python.distChamfer(P.unsqueeze(0), Q.unsqueeze(0))\n",
    "    \n",
    "    dist = mydist1.mean()*500+mydist2.mean()*500\n",
    "    list.append(dist)"
   ]
  },
  {
   "cell_type": "markdown",
   "id": "7ba61100",
   "metadata": {},
   "source": [
    "## MAE"
   ]
  },
  {
   "cell_type": "code",
   "execution_count": null,
   "id": "35b7fe36",
   "metadata": {},
   "outputs": [],
   "source": [
    "## depth: estimated depth map, depth_gt: ground truth of depth map\n",
    "mae_list.append(np.mean(np.abs(depth-depth_gt)))\n",
    "print(np.mean(mae_list))"
   ]
  }
 ],
 "metadata": {
  "kernelspec": {
   "display_name": "Python 3 (ipykernel)",
   "language": "python",
   "name": "python3"
  },
  "language_info": {
   "codemirror_mode": {
    "name": "ipython",
    "version": 3
   },
   "file_extension": ".py",
   "mimetype": "text/x-python",
   "name": "python",
   "nbconvert_exporter": "python",
   "pygments_lexer": "ipython3",
   "version": "3.9.13"
  }
 },
 "nbformat": 4,
 "nbformat_minor": 5
}
